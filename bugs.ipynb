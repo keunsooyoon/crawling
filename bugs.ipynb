{
  "nbformat": 4,
  "nbformat_minor": 0,
  "metadata": {
    "colab": {
      "name": "bugs.ipynb",
      "provenance": []
    },
    "kernelspec": {
      "name": "python3",
      "display_name": "Python 3"
    },
    "language_info": {
      "name": "python"
    }
  },
  "cells": [
    {
      "cell_type": "code",
      "metadata": {
        "id": "ofYuZPKkKVwS"
      },
      "source": [
        "import requests  # 웹페이지 읽어오기\n",
        "\n",
        "from bs4 import BeautifulSoup as bs\n",
        "\n",
        "import pandas as pd\n",
        "\n"
      ],
      "execution_count": null,
      "outputs": []
    },
    {
      "cell_type": "code",
      "metadata": {
        "id": "U7nPfIMbNsS2"
      },
      "source": [
        "url = \"https://music.bugs.co.kr/chart\"\n",
        "html = requests.get(url)\n",
        "soup = bs(html.text, 'html.parser')"
      ],
      "execution_count": null,
      "outputs": []
    },
    {
      "cell_type": "code",
      "metadata": {
        "colab": {
          "base_uri": "https://localhost:8080/"
        },
        "id": "r6mj8GSeOB8t",
        "outputId": "2715571b-952b-4ae3-9d04-2af0c9b5b2b1"
      },
      "source": [
        "songs = soup.select('tr')\n",
        "len(songs)"
      ],
      "execution_count": null,
      "outputs": [
        {
          "output_type": "execute_result",
          "data": {
            "text/plain": [
              "104"
            ]
          },
          "metadata": {},
          "execution_count": 3
        }
      ]
    },
    {
      "cell_type": "code",
      "metadata": {
        "colab": {
          "base_uri": "https://localhost:8080/"
        },
        "id": "ezpwq3zVO8fr",
        "outputId": "49a26c02-a6ab-423a-b9ec-91f296dbf9c3"
      },
      "source": [
        "songs = soup.select('table.byChart > tbody > tr')\n",
        "len(songs)"
      ],
      "execution_count": null,
      "outputs": [
        {
          "output_type": "execute_result",
          "data": {
            "text/plain": [
              "100"
            ]
          },
          "metadata": {},
          "execution_count": 4
        }
      ]
    },
    {
      "cell_type": "code",
      "metadata": {
        "id": "nICdgJw0PUw2"
      },
      "source": [
        "song = songs[0]"
      ],
      "execution_count": null,
      "outputs": []
    },
    {
      "cell_type": "code",
      "metadata": {
        "colab": {
          "base_uri": "https://localhost:8080/"
        },
        "id": "A6im_jXPPoIp",
        "outputId": "e8fee80e-6df8-44c0-b6bc-e48a9171ff49"
      },
      "source": [
        "song"
      ],
      "execution_count": null,
      "outputs": [
        {
          "output_type": "execute_result",
          "data": {
            "text/plain": [
              "<tr albumid=\"4069567\" artistid=\"80049126\" multiartist=\"N\" mvid=\"0\" rowtype=\"track\" trackid=\"6141496\">\n",
              "<input name=\"_isStream\" type=\"hidden\" value=\"6141496\">\n",
              "<input name=\"_isDown\" type=\"hidden\" value=\"6141496\">\n",
              "<td class=\"check\"><input buyminquality=\"T\" disc_id=\"1\" name=\"check\" title=\"드라마\" type=\"checkbox\" value=\"6141496\"/></td>\n",
              "<td>\n",
              "<div class=\"ranking\">\n",
              "<strong>1</strong>\n",
              "<p class=\"change up\"><span class=\"arrow\"></span> <em>5</em> <span>계단 상승</span></p>\n",
              "</div>\n",
              "</td>\n",
              "<td>\n",
              "<a class=\"thumbnail\" href=\"https://music.bugs.co.kr/album/4069567?wl_ref=list_tr_07_chart\" onclick=\"\n",
              "\">\n",
              "<span class=\"mask\"></span>\n",
              "<img alt=\"조각집 대표이미지\" onerror=\"bugs.utils.imgError(this);\" src=\"https://image.bugsm.co.kr/album/images/50/40695/4069567.jpg?version=20220104003927.0\"/>\n",
              "</a>\n",
              "</td>\n",
              "<td>\n",
              "<a class=\"trackInfo\" href=\"https://music.bugs.co.kr/track/6141496?wl_ref=list_tr_08_chart\" onclick=\"\n",
              "\">곡정보</a>\n",
              "</td>\n",
              "<th scope=\"row\">\n",
              "<p adult_yn=\"N\" class=\"title\">\n",
              "<a adultcheckval=\"1\" aria-label=\"새창\" href=\"javascript:;\" onclick=\"bugs.wiselog.area('list_tr_09_chart');bugs.music.listen('6141496',true);\n",
              "\" title=\"드라마\">드라마</a>\n",
              "</p>\n",
              "</th>\n",
              "<td class=\"left\">\n",
              "<p class=\"artist\">\n",
              "<a href=\"https://music.bugs.co.kr/artist/80049126?wl_ref=list_tr_10_chart\" onclick=\"\n",
              "\" title=\"아이유(IU)\">아이유(IU)</a>\n",
              "</p>\n",
              "</td>\n",
              "<td class=\"left\">\n",
              "<a class=\"album\" href=\"https://music.bugs.co.kr/album/4069567?wl_ref=list_tr_11_chart\" onclick=\"\n",
              "\" title=\"조각집\">조각집</a>\n",
              "</td>\n",
              "<td>\n",
              "<a adultcheckval=\"1\" aria-label=\"새창\" class=\"btn play\" href=\"javascript:;\" onclick=\"bugs.wiselog.area('list_tr_12_chart');bugs.music.listen('6141496',true);\n",
              "\">듣기</a>\n",
              "</td>\n",
              "<td>\n",
              "<a adultcheckval=\"1\" aria-label=\"새창\" class=\"btn addPlaylist\" href=\"javascript:;\" onclick=\"bugs.wiselog.area('list_tr_13_chart');bugs.music.listen('6141496');\n",
              "\">재생목록에 추가</a>\n",
              "</td>\n",
              "<td>\n",
              "<a class=\"btn addAlbum\" href=\"javascript:;\" onclick=\"bugs.wiselog.area('list_tr_14_chart');bugs.music.addTrackToMyAlbum(this,'6141496');\n",
              "\" track_title=\"드라마\">내 앨범에 담기</a>\n",
              "</td>\n",
              "<td>\n",
              "<a adultcheckval=\"1\" aria-label=\"새창\" class=\"btn download flac\" href=\"javascript:;\" onclick=\"bugs.wiselog.area('list_tr_15_chart');bugs.layermenu.down(this,'6141496','true','true','44.1','true','48', null );\n",
              "\"><em class=\"flac\">flac </em>다운로드</a>\n",
              "</td>\n",
              "<td>\n",
              "<span class=\"btn viewMV\">영상 재생 불가</span>\n",
              "</td>\n",
              "<td>\n",
              "<a artist_disp_nm=\"아이유(IU)\" artist_id=\"80049126\" class=\"btnActions\" href=\"javascript:;\" layer_type=\"CHART\" layerpositiontarget=\"td\" onclick=\"bugs.wiselog.area('list_tr_17_chart');\n",
              "bugs.layermenu.trackMoreAction(this,'6141496','0','4069567','bugs.music.listenRadioFromSeed(\\'6141496\\',\\'track\\');','N', 'Y', '_chart');\n",
              "\" track_title=\"드라마\">기타 기능</a>\n",
              "</td>\n",
              "</input></input></tr>"
            ]
          },
          "metadata": {},
          "execution_count": 6
        }
      ]
    },
    {
      "cell_type": "code",
      "metadata": {
        "colab": {
          "base_uri": "https://localhost:8080/"
        },
        "id": "Xk917KAuP3Sd",
        "outputId": "1c0a5ee9-0347-44f4-ab25-d569dc0c4e13"
      },
      "source": [
        "title = song.select('a')\n",
        "len(title)"
      ],
      "execution_count": null,
      "outputs": [
        {
          "output_type": "execute_result",
          "data": {
            "text/plain": [
              "10"
            ]
          },
          "metadata": {},
          "execution_count": 7
        }
      ]
    },
    {
      "cell_type": "code",
      "metadata": {
        "colab": {
          "base_uri": "https://localhost:8080/"
        },
        "id": "fOtzvVE2O5b6",
        "outputId": "f219ed4c-6119-4af0-e448-c77f839203f6"
      },
      "source": [
        "title = song.select('p > a')\n",
        "len(title)"
      ],
      "execution_count": null,
      "outputs": [
        {
          "output_type": "execute_result",
          "data": {
            "text/plain": [
              "2"
            ]
          },
          "metadata": {},
          "execution_count": 8
        }
      ]
    },
    {
      "cell_type": "code",
      "metadata": {
        "colab": {
          "base_uri": "https://localhost:8080/"
        },
        "id": "4_B81cz-QxDg",
        "outputId": "d0944f2c-7b51-423b-8f0b-a471333c8fd8"
      },
      "source": [
        "title"
      ],
      "execution_count": null,
      "outputs": [
        {
          "output_type": "execute_result",
          "data": {
            "text/plain": [
              "[<a adultcheckval=\"1\" aria-label=\"새창\" href=\"javascript:;\" onclick=\"bugs.wiselog.area('list_tr_09_chart');bugs.music.listen('6141496',true);\n",
              " \" title=\"드라마\">드라마</a>,\n",
              " <a href=\"https://music.bugs.co.kr/artist/80049126?wl_ref=list_tr_10_chart\" onclick=\"\n",
              " \" title=\"아이유(IU)\">아이유(IU)</a>]"
            ]
          },
          "metadata": {},
          "execution_count": 9
        }
      ]
    },
    {
      "cell_type": "code",
      "metadata": {
        "id": "RZyrsf1XQ414"
      },
      "source": [
        "title = song.select('p.title > a')"
      ],
      "execution_count": null,
      "outputs": []
    },
    {
      "cell_type": "code",
      "metadata": {
        "colab": {
          "base_uri": "https://localhost:8080/"
        },
        "id": "_QSLRl2tRJsl",
        "outputId": "627ff195-8b1d-4d91-8586-a1a71cb86dc8"
      },
      "source": [
        "title"
      ],
      "execution_count": null,
      "outputs": [
        {
          "output_type": "execute_result",
          "data": {
            "text/plain": [
              "[<a adultcheckval=\"1\" aria-label=\"새창\" href=\"javascript:;\" onclick=\"bugs.wiselog.area('list_tr_09_chart');bugs.music.listen('6141496',true);\n",
              " \" title=\"드라마\">드라마</a>]"
            ]
          },
          "metadata": {},
          "execution_count": 11
        }
      ]
    },
    {
      "cell_type": "code",
      "metadata": {
        "colab": {
          "base_uri": "https://localhost:8080/",
          "height": 35
        },
        "id": "UEMqTR57RK33",
        "outputId": "4866f06c-6f50-4c90-ac08-d063e69c4442"
      },
      "source": [
        "title = song.select('p.title > a')[0].text\n",
        "title"
      ],
      "execution_count": null,
      "outputs": [
        {
          "output_type": "execute_result",
          "data": {
            "application/vnd.google.colaboratory.intrinsic+json": {
              "type": "string"
            },
            "text/plain": [
              "'드라마'"
            ]
          },
          "metadata": {},
          "execution_count": 12
        }
      ]
    },
    {
      "cell_type": "code",
      "metadata": {
        "colab": {
          "base_uri": "https://localhost:8080/"
        },
        "id": "IgLRxNS3Rftk",
        "outputId": "bc72555b-af66-4a15-c17d-13984648a39b"
      },
      "source": [
        "singer = song.select('p.artist > a')\n",
        "singer"
      ],
      "execution_count": null,
      "outputs": [
        {
          "output_type": "execute_result",
          "data": {
            "text/plain": [
              "[<a href=\"https://music.bugs.co.kr/artist/80049126?wl_ref=list_tr_10_chart\" onclick=\"\n",
              " \" title=\"아이유(IU)\">아이유(IU)</a>]"
            ]
          },
          "metadata": {},
          "execution_count": 13
        }
      ]
    },
    {
      "cell_type": "code",
      "metadata": {
        "colab": {
          "base_uri": "https://localhost:8080/",
          "height": 35
        },
        "id": "jfeJAWZATRGN",
        "outputId": "8d7071aa-a475-405a-bdff-cce3e0def806"
      },
      "source": [
        "singer = song.select('p.artist > a')[0].text\n",
        "singer"
      ],
      "execution_count": null,
      "outputs": [
        {
          "output_type": "execute_result",
          "data": {
            "application/vnd.google.colaboratory.intrinsic+json": {
              "type": "string"
            },
            "text/plain": [
              "'아이유(IU)'"
            ]
          },
          "metadata": {},
          "execution_count": 14
        }
      ]
    },
    {
      "cell_type": "code",
      "metadata": {
        "id": "GFXoKCiETZ54"
      },
      "source": [
        "song_data = []\n",
        "rank = 1\n",
        "\n",
        "songs = soup.select('table.byChart > tbody > tr')\n",
        "\n",
        "for song in songs:\n",
        "  title = song.select('p.title > a')[0].text\n",
        "  singer = song.select('p.artist > a')[0].text\n",
        "  song_data.append(['Bugs', rank, title, singer])\n",
        "  rank += 1\n",
        "\n",
        "columns = ['서비스','순위','타이블','가수']\n",
        "df = pd.DataFrame(song_data, columns = columns)\n",
        "\n",
        "df.to_excel('bugs.xlsx', index=False)\n"
      ],
      "execution_count": null,
      "outputs": []
    },
    {
      "cell_type": "code",
      "metadata": {
        "colab": {
          "base_uri": "https://localhost:8080/",
          "height": 423
        },
        "id": "oIk_DJMFVMwf",
        "outputId": "5d455c8f-d9bc-47bf-c3e2-f899e63bd4d7"
      },
      "source": [
        "df"
      ],
      "execution_count": null,
      "outputs": [
        {
          "output_type": "execute_result",
          "data": {
            "text/html": [
              "\n",
              "  <div id=\"df-e861b4ad-b91f-482d-ab81-b22f8fba310a\">\n",
              "    <div class=\"colab-df-container\">\n",
              "      <div>\n",
              "<style scoped>\n",
              "    .dataframe tbody tr th:only-of-type {\n",
              "        vertical-align: middle;\n",
              "    }\n",
              "\n",
              "    .dataframe tbody tr th {\n",
              "        vertical-align: top;\n",
              "    }\n",
              "\n",
              "    .dataframe thead th {\n",
              "        text-align: right;\n",
              "    }\n",
              "</style>\n",
              "<table border=\"1\" class=\"dataframe\">\n",
              "  <thead>\n",
              "    <tr style=\"text-align: right;\">\n",
              "      <th></th>\n",
              "      <th>서비스</th>\n",
              "      <th>순위</th>\n",
              "      <th>타이블</th>\n",
              "      <th>가수</th>\n",
              "    </tr>\n",
              "  </thead>\n",
              "  <tbody>\n",
              "    <tr>\n",
              "      <th>0</th>\n",
              "      <td>Bugs</td>\n",
              "      <td>1</td>\n",
              "      <td>드라마</td>\n",
              "      <td>아이유(IU)</td>\n",
              "    </tr>\n",
              "    <tr>\n",
              "      <th>1</th>\n",
              "      <td>Bugs</td>\n",
              "      <td>2</td>\n",
              "      <td>Blessed-Cursed</td>\n",
              "      <td>ENHYPEN</td>\n",
              "    </tr>\n",
              "    <tr>\n",
              "      <th>2</th>\n",
              "      <td>Bugs</td>\n",
              "      <td>3</td>\n",
              "      <td>서랍</td>\n",
              "      <td>10CM</td>\n",
              "    </tr>\n",
              "    <tr>\n",
              "      <th>3</th>\n",
              "      <td>Bugs</td>\n",
              "      <td>4</td>\n",
              "      <td>Step Back</td>\n",
              "      <td>GOT the beat</td>\n",
              "    </tr>\n",
              "    <tr>\n",
              "      <th>4</th>\n",
              "      <td>Bugs</td>\n",
              "      <td>5</td>\n",
              "      <td>여름비</td>\n",
              "      <td>샘김(Sam Kim)</td>\n",
              "    </tr>\n",
              "    <tr>\n",
              "      <th>...</th>\n",
              "      <td>...</td>\n",
              "      <td>...</td>\n",
              "      <td>...</td>\n",
              "      <td>...</td>\n",
              "    </tr>\n",
              "    <tr>\n",
              "      <th>95</th>\n",
              "      <td>Bugs</td>\n",
              "      <td>96</td>\n",
              "      <td>Blueming</td>\n",
              "      <td>아이유(IU)</td>\n",
              "    </tr>\n",
              "    <tr>\n",
              "      <th>96</th>\n",
              "      <td>Bugs</td>\n",
              "      <td>97</td>\n",
              "      <td>어떻게 지내 (Prod. By VAN.C)</td>\n",
              "      <td>오반</td>\n",
              "    </tr>\n",
              "    <tr>\n",
              "      <th>97</th>\n",
              "      <td>Bugs</td>\n",
              "      <td>98</td>\n",
              "      <td>double take</td>\n",
              "      <td>Dhruv</td>\n",
              "    </tr>\n",
              "    <tr>\n",
              "      <th>98</th>\n",
              "      <td>Bugs</td>\n",
              "      <td>99</td>\n",
              "      <td>끝사랑</td>\n",
              "      <td>임영웅</td>\n",
              "    </tr>\n",
              "    <tr>\n",
              "      <th>99</th>\n",
              "      <td>Bugs</td>\n",
              "      <td>100</td>\n",
              "      <td>나무</td>\n",
              "      <td>카더가든</td>\n",
              "    </tr>\n",
              "  </tbody>\n",
              "</table>\n",
              "<p>100 rows × 4 columns</p>\n",
              "</div>\n",
              "      <button class=\"colab-df-convert\" onclick=\"convertToInteractive('df-e861b4ad-b91f-482d-ab81-b22f8fba310a')\"\n",
              "              title=\"Convert this dataframe to an interactive table.\"\n",
              "              style=\"display:none;\">\n",
              "        \n",
              "  <svg xmlns=\"http://www.w3.org/2000/svg\" height=\"24px\"viewBox=\"0 0 24 24\"\n",
              "       width=\"24px\">\n",
              "    <path d=\"M0 0h24v24H0V0z\" fill=\"none\"/>\n",
              "    <path d=\"M18.56 5.44l.94 2.06.94-2.06 2.06-.94-2.06-.94-.94-2.06-.94 2.06-2.06.94zm-11 1L8.5 8.5l.94-2.06 2.06-.94-2.06-.94L8.5 2.5l-.94 2.06-2.06.94zm10 10l.94 2.06.94-2.06 2.06-.94-2.06-.94-.94-2.06-.94 2.06-2.06.94z\"/><path d=\"M17.41 7.96l-1.37-1.37c-.4-.4-.92-.59-1.43-.59-.52 0-1.04.2-1.43.59L10.3 9.45l-7.72 7.72c-.78.78-.78 2.05 0 2.83L4 21.41c.39.39.9.59 1.41.59.51 0 1.02-.2 1.41-.59l7.78-7.78 2.81-2.81c.8-.78.8-2.07 0-2.86zM5.41 20L4 18.59l7.72-7.72 1.47 1.35L5.41 20z\"/>\n",
              "  </svg>\n",
              "      </button>\n",
              "      \n",
              "  <style>\n",
              "    .colab-df-container {\n",
              "      display:flex;\n",
              "      flex-wrap:wrap;\n",
              "      gap: 12px;\n",
              "    }\n",
              "\n",
              "    .colab-df-convert {\n",
              "      background-color: #E8F0FE;\n",
              "      border: none;\n",
              "      border-radius: 50%;\n",
              "      cursor: pointer;\n",
              "      display: none;\n",
              "      fill: #1967D2;\n",
              "      height: 32px;\n",
              "      padding: 0 0 0 0;\n",
              "      width: 32px;\n",
              "    }\n",
              "\n",
              "    .colab-df-convert:hover {\n",
              "      background-color: #E2EBFA;\n",
              "      box-shadow: 0px 1px 2px rgba(60, 64, 67, 0.3), 0px 1px 3px 1px rgba(60, 64, 67, 0.15);\n",
              "      fill: #174EA6;\n",
              "    }\n",
              "\n",
              "    [theme=dark] .colab-df-convert {\n",
              "      background-color: #3B4455;\n",
              "      fill: #D2E3FC;\n",
              "    }\n",
              "\n",
              "    [theme=dark] .colab-df-convert:hover {\n",
              "      background-color: #434B5C;\n",
              "      box-shadow: 0px 1px 3px 1px rgba(0, 0, 0, 0.15);\n",
              "      filter: drop-shadow(0px 1px 2px rgba(0, 0, 0, 0.3));\n",
              "      fill: #FFFFFF;\n",
              "    }\n",
              "  </style>\n",
              "\n",
              "      <script>\n",
              "        const buttonEl =\n",
              "          document.querySelector('#df-e861b4ad-b91f-482d-ab81-b22f8fba310a button.colab-df-convert');\n",
              "        buttonEl.style.display =\n",
              "          google.colab.kernel.accessAllowed ? 'block' : 'none';\n",
              "\n",
              "        async function convertToInteractive(key) {\n",
              "          const element = document.querySelector('#df-e861b4ad-b91f-482d-ab81-b22f8fba310a');\n",
              "          const dataTable =\n",
              "            await google.colab.kernel.invokeFunction('convertToInteractive',\n",
              "                                                     [key], {});\n",
              "          if (!dataTable) return;\n",
              "\n",
              "          const docLinkHtml = 'Like what you see? Visit the ' +\n",
              "            '<a target=\"_blank\" href=https://colab.research.google.com/notebooks/data_table.ipynb>data table notebook</a>'\n",
              "            + ' to learn more about interactive tables.';\n",
              "          element.innerHTML = '';\n",
              "          dataTable['output_type'] = 'display_data';\n",
              "          await google.colab.output.renderOutput(dataTable, element);\n",
              "          const docLink = document.createElement('div');\n",
              "          docLink.innerHTML = docLinkHtml;\n",
              "          element.appendChild(docLink);\n",
              "        }\n",
              "      </script>\n",
              "    </div>\n",
              "  </div>\n",
              "  "
            ],
            "text/plain": [
              "     서비스   순위                      타이블            가수\n",
              "0   Bugs    1                      드라마       아이유(IU)\n",
              "1   Bugs    2           Blessed-Cursed       ENHYPEN\n",
              "2   Bugs    3                       서랍          10CM\n",
              "3   Bugs    4                Step Back  GOT the beat\n",
              "4   Bugs    5                      여름비   샘김(Sam Kim)\n",
              "..   ...  ...                      ...           ...\n",
              "95  Bugs   96                 Blueming       아이유(IU)\n",
              "96  Bugs   97  어떻게 지내 (Prod. By VAN.C)            오반\n",
              "97  Bugs   98              double take         Dhruv\n",
              "98  Bugs   99                      끝사랑           임영웅\n",
              "99  Bugs  100                       나무          카더가든\n",
              "\n",
              "[100 rows x 4 columns]"
            ]
          },
          "metadata": {},
          "execution_count": 16
        }
      ]
    },
    {
      "cell_type": "code",
      "metadata": {
        "id": "wcaD0YbQVNXq"
      },
      "source": [
        ""
      ],
      "execution_count": null,
      "outputs": []
    },
    {
      "cell_type": "code",
      "metadata": {
        "id": "lccKOFfJReK3"
      },
      "source": [
        "################################################################################\n",
        "#  지니 Genie \n",
        "################################################################################"
      ],
      "execution_count": null,
      "outputs": []
    },
    {
      "cell_type": "code",
      "metadata": {
        "colab": {
          "base_uri": "https://localhost:8080/"
        },
        "id": "nTqJ2mNdQvV1",
        "outputId": "1d72ee0b-3e63-4eed-8b2b-de4f3004a75d"
      },
      "source": [
        "url = \"https://www.genie.co.kr/chart/top200\"\n",
        "html = requests.get(url)\n",
        "soup = bs(html.text, 'html.parser')\n",
        "print(soup)"
      ],
      "execution_count": null,
      "outputs": [
        {
          "output_type": "stream",
          "name": "stdout",
          "text": [
            "<br/>\n",
            "<br/>\n",
            "<center>\n",
            "<img src=\"http://www.geniemusic.co.kr/images/common/logo_r1.png\"/><br/>\n",
            "<h2> <meta content=\"text/html;charset=utf-8\" http-equiv=\"Content-Type\"/> ì ììì²­ì´ ë³´ìì ì±ì ìí´ ì°¨ë¨ëììµëë¤. ë¹ì¬ ê³ ê°ì¼í°ë¡ ë¬¸ìí´ì£¼ì­ìì¤.<br/><br/>\r\n",
            "The security policy of the connection request is blocked. Contact your customer service representative.<br/><br/>\r\n",
            "ì§ëë®¤ì§ ê³ ê°ì¼í° 1577-5337<br/><br/>\n",
            "</h2>\n",
            "</center>\n",
            "<br/>\n"
          ]
        }
      ]
    },
    {
      "cell_type": "code",
      "metadata": {
        "id": "SacDaXc4Z8gh"
      },
      "source": [
        ""
      ],
      "execution_count": null,
      "outputs": []
    }
  ]
}